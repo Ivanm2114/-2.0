{
  "nbformat": 4,
  "nbformat_minor": 0,
  "metadata": {
    "colab": {
      "name": "Untitled9.ipynb",
      "provenance": [],
      "collapsed_sections": [],
      "authorship_tag": "ABX9TyMe/T0Pd9J8wTX79CSqevAB",
      "include_colab_link": true
    },
    "kernelspec": {
      "name": "python3",
      "display_name": "Python 3"
    },
    "language_info": {
      "name": "python"
    }
  },
  "cells": [
    {
      "cell_type": "markdown",
      "metadata": {
        "id": "view-in-github",
        "colab_type": "text"
      },
      "source": [
        "<a href=\"https://colab.research.google.com/github/Ivanm2114/-2.0/blob/main/Untitled9.ipynb\" target=\"_parent\"><img src=\"https://colab.research.google.com/assets/colab-badge.svg\" alt=\"Open In Colab\"/></a>"
      ]
    },
    {
      "cell_type": "code",
      "metadata": {
        "colab": {
          "base_uri": "https://localhost:8080/"
        },
        "id": "IGiSNjLjGAX9",
        "outputId": "bac9cf1d-278d-41da-9490-aca86d17866a"
      },
      "source": [
        "import numpy as np\n",
        " \n",
        "a = np.arange(1., 2.1, 0.1)\n",
        "a"
      ],
      "execution_count": null,
      "outputs": [
        {
          "output_type": "execute_result",
          "data": {
            "text/plain": [
              "array([1. , 1.1, 1.2, 1.3, 1.4, 1.5, 1.6, 1.7, 1.8, 1.9, 2. ])"
            ]
          },
          "metadata": {
            "tags": []
          },
          "execution_count": 28
        }
      ]
    },
    {
      "cell_type": "code",
      "metadata": {
        "colab": {
          "base_uri": "https://localhost:8080/"
        },
        "id": "41HT2QKLvO8A",
        "outputId": "d7d6b9cf-cc8e-4593-d95f-83a763f3d31d"
      },
      "source": [
        "a = [[1,2,3],[4,5,6]]\n",
        "len_1 = len(a)\n",
        "len_2 = len(a[0])\n",
        "b = np.zeros((len_1, len_2))\n",
        "b"
      ],
      "execution_count": null,
      "outputs": [
        {
          "output_type": "execute_result",
          "data": {
            "text/plain": [
              "array([[0., 0., 0.],\n",
              "       [0., 0., 0.]])"
            ]
          },
          "metadata": {
            "tags": []
          },
          "execution_count": 7
        }
      ]
    },
    {
      "cell_type": "code",
      "metadata": {
        "colab": {
          "base_uri": "https://localhost:8080/"
        },
        "id": "4OW8Cq07GYUJ",
        "outputId": "2b51c764-0c7c-44d1-ce4b-587fffdc5c33"
      },
      "source": [
        "b = np.zeros((2,3))\n",
        "b"
      ],
      "execution_count": null,
      "outputs": [
        {
          "output_type": "execute_result",
          "data": {
            "text/plain": [
              "array([[0., 0., 0.],\n",
              "       [0., 0., 0.]])"
            ]
          },
          "metadata": {
            "tags": []
          },
          "execution_count": 11
        }
      ]
    },
    {
      "cell_type": "code",
      "metadata": {
        "colab": {
          "base_uri": "https://localhost:8080/"
        },
        "id": "2-fSistQHkjO",
        "outputId": "300c7f4e-fe17-4f7c-db8e-70e35b8f1114"
      },
      "source": [
        "c = np.array(range(5))\n",
        "c"
      ],
      "execution_count": null,
      "outputs": [
        {
          "output_type": "execute_result",
          "data": {
            "text/plain": [
              "array([0, 1, 2, 3, 4])"
            ]
          },
          "metadata": {
            "tags": []
          },
          "execution_count": 4
        }
      ]
    },
    {
      "cell_type": "code",
      "metadata": {
        "colab": {
          "base_uri": "https://localhost:8080/",
          "height": 313
        },
        "id": "laDdz245Kss6",
        "outputId": "17d8ee28-8a16-4153-bbb4-563c5642a4c8"
      },
      "source": [
        "import matplotlib.pyplot as plt\n",
        "from math import exp\n",
        "\n",
        "x = np.arange(0,10.1, 0.1)\n",
        "y = list(1/exp(n) for n in x)\n",
        "\n",
        "plt.grid()\n",
        "plt.title('y = 1/exp(x)')\n",
        "plt.xlabel('x')\n",
        "plt.ylabel('y')\n",
        "plt.plot(x,y,'s', c='y')"
      ],
      "execution_count": null,
      "outputs": [
        {
          "output_type": "execute_result",
          "data": {
            "text/plain": [
              "[<matplotlib.lines.Line2D at 0x7f33195b1450>]"
            ]
          },
          "metadata": {
            "tags": []
          },
          "execution_count": 62
        },
        {
          "output_type": "display_data",
          "data": {
            "image/png": "[encoded data removed]",
            "text/plain": [
              "<Figure size 432x288 with 1 Axes>"
            ]
          },
          "metadata": {
            "tags": [],
            "needs_background": "light"
          }
        }
      ]
    },
    {
      "cell_type": "code",
      "metadata": {
        "colab": {
          "base_uri": "https://localhost:8080/",
          "height": 283
        },
        "id": "Z5DEQc-KMU1B",
        "outputId": "bc934fff-d325-4f8d-a918-784660304276"
      },
      "source": [
        "fruits = [1.8, 1.2, 3.5, 2.2, 1.4, 2.3, 2.5, 5.1, 6.1]\n",
        "counts = [24, 48]\n",
        "plt.hist(fruits, counts)"
      ],
      "execution_count": null,
      "outputs": [
        {
          "output_type": "execute_result",
          "data": {
            "text/plain": [
              "(array([0.]), array([24, 48]), <a list of 1 Patch objects>)"
            ]
          },
          "metadata": {
            "tags": []
          },
          "execution_count": 23
        },
        {
          "output_type": "display_data",
          "data": {
            "image/png": "[encoded data removed]",
            "text/plain": [
              "<Figure size 432x288 with 1 Axes>"
            ]
          },
          "metadata": {
            "tags": [],
            "needs_background": "light"
          }
        }
      ]
    },
    {
      "cell_type": "code",
      "metadata": {
        "colab": {
          "base_uri": "https://localhost:8080/",
          "height": 313
        },
        "id": "3x4oMIE0zaT4",
        "outputId": "2d324efa-d705-4207-f73d-016a99ebc869"
      },
      "source": [
        "import matplotlib.pyplot as plt\n",
        "from math import cos\n",
        "\n",
        "x = np.arange(0,10.1, 0.1)\n",
        "y = list(cos(n) for n in x)\n",
        "\n",
        "plt.grid()\n",
        "plt.title('y = 1/exp(x)')\n",
        "plt.xlabel('x')\n",
        "plt.ylabel('y')\n",
        "plt.plot(x,y,'x' ,label='cosine')"
      ],
      "execution_count": null,
      "outputs": [
        {
          "output_type": "execute_result",
          "data": {
            "text/plain": [
              "[<matplotlib.lines.Line2D at 0x7f332c86ed90>]"
            ]
          },
          "metadata": {
            "tags": []
          },
          "execution_count": 36
        },
        {
          "output_type": "display_data",
          "data": {
            "image/png": "[encoded data removed]",
            "text/plain": [
              "<Figure size 432x288 with 1 Axes>"
            ]
          },
          "metadata": {
            "tags": [],
            "needs_background": "light"
          }
        }
      ]
    },
    {
      "cell_type": "code",
      "metadata": {
        "colab": {
          "base_uri": "https://localhost:8080/"
        },
        "id": "M60cS4D-5suf",
        "outputId": "61ee7601-68dc-4090-9145-f7a803990995"
      },
      "source": [
        "import pandas as pd\n",
        "data = pd.read_csv('/content/test_2.csv')\n",
        "data.info()"
      ],
      "execution_count": null,
      "outputs": [
        {
          "output_type": "stream",
          "text": [
            "<class 'pandas.core.frame.DataFrame'>\n",
            "RangeIndex: 295 entries, 0 to 294\n",
            "Data columns (total 2 columns):\n",
            " #   Column  Non-Null Count  Dtype  \n",
            "---  ------  --------------  -----  \n",
            " 0   x       295 non-null    int64  \n",
            " 1   y       295 non-null    float64\n",
            "dtypes: float64(1), int64(1)\n",
            "memory usage: 4.7 KB\n"
          ],
          "name": "stdout"
        }
      ]
    },
    {
      "cell_type": "code",
      "metadata": {
        "colab": {
          "base_uri": "https://localhost:8080/"
        },
        "id": "DEdLAgN36C97",
        "outputId": "ac619a34-c3e8-44ce-c1c7-20a7396f4b31"
      },
      "source": [
        "from sklearn.linear_model import LinearRegression\n",
        "\n",
        "model = LinearRegression()\n",
        "x = np.array(data['x']).reshape(-1,1)\n",
        "y = np.array(data['y'])\n",
        "\n",
        "model.fit(x,y)\n",
        "\n",
        "b = model.intercept_\n",
        "a = model.coef_\n",
        "\n",
        "y = a*55 + b\n",
        "print(y)"
      ],
      "execution_count": null,
      "outputs": [
        {
          "output_type": "stream",
          "text": [
            "[55.31783568]\n"
          ],
          "name": "stdout"
        }
      ]
    },
    {
      "cell_type": "code",
      "metadata": {
        "colab": {
          "base_uri": "https://localhost:8080/"
        },
        "id": "kQrZCG579DN3",
        "outputId": "890b7c92-49da-4e1c-b5bd-7ac092d09062"
      },
      "source": [
        "data1 = pd.read_csv('/content/heart-2.csv')\n",
        "data1.info()"
      ],
      "execution_count": null,
      "outputs": [
        {
          "output_type": "stream",
          "text": [
            "<class 'pandas.core.frame.DataFrame'>\n",
            "RangeIndex: 301 entries, 0 to 300\n",
            "Data columns (total 14 columns):\n",
            " #   Column    Non-Null Count  Dtype  \n",
            "---  ------    --------------  -----  \n",
            " 0   age       301 non-null    int64  \n",
            " 1   sex       301 non-null    int64  \n",
            " 2   cp        301 non-null    int64  \n",
            " 3   trtbps    301 non-null    int64  \n",
            " 4   chol      301 non-null    int64  \n",
            " 5   fbs       301 non-null    int64  \n",
            " 6   restecg   301 non-null    int64  \n",
            " 7   thalachh  301 non-null    int64  \n",
            " 8   exng      301 non-null    int64  \n",
            " 9   oldpeak   301 non-null    float64\n",
            " 10  slp       301 non-null    int64  \n",
            " 11  caa       301 non-null    int64  \n",
            " 12  thall     301 non-null    int64  \n",
            " 13  output    301 non-null    int64  \n",
            "dtypes: float64(1), int64(13)\n",
            "memory usage: 33.0 KB\n"
          ],
          "name": "stdout"
        }
      ]
    },
    {
      "cell_type": "code",
      "metadata": {
        "colab": {
          "base_uri": "https://localhost:8080/"
        },
        "id": "i3VAJhYw7hOB",
        "outputId": "e04c9a5d-a112-4415-af04-470d58810197"
      },
      "source": [
        "from sklearn.linear_model import LogisticRegression\n",
        "\n",
        "\n",
        "logic = LogisticRegression()\n",
        "\n",
        "x = data1.drop('output', axis=1)\n",
        "y = data1['output']\n",
        "logic.fit(x,y)"
      ],
      "execution_count": null,
      "outputs": [
        {
          "output_type": "stream",
          "text": [
            "/usr/local/lib/python3.7/dist-packages/sklearn/linear_model/_logistic.py:940: ConvergenceWarning: lbfgs failed to converge (status=1):\n",
            "STOP: TOTAL NO. of ITERATIONS REACHED LIMIT.\n",
            "\n",
            "Increase the number of iterations (max_iter) or scale the data as shown in:\n",
            "    https://scikit-learn.org/stable/modules/preprocessing.html\n",
            "Please also refer to the documentation for alternative solver options:\n",
            "    https://scikit-learn.org/stable/modules/linear_model.html#logistic-regression\n",
            "  extra_warning_msg=_LOGISTIC_SOLVER_CONVERGENCE_MSG)\n"
          ],
          "name": "stderr"
        },
        {
          "output_type": "execute_result",
          "data": {
            "text/plain": [
              "LogisticRegression(C=1.0, class_weight=None, dual=False, fit_intercept=True,\n",
              "                   intercept_scaling=1, l1_ratio=None, max_iter=100,\n",
              "                   multi_class='auto', n_jobs=None, penalty='l2',\n",
              "                   random_state=None, solver='lbfgs', tol=0.0001, verbose=0,\n",
              "                   warm_start=False)"
            ]
          },
          "metadata": {
            "tags": []
          },
          "execution_count": 63
        }
      ]
    },
    {
      "cell_type": "code",
      "metadata": {
        "colab": {
          "base_uri": "https://localhost:8080/"
        },
        "id": "5u6dnm4f9ka5",
        "outputId": "558844ef-3240-42cf-a025-ec3ea5ac5051"
      },
      "source": [
        "test = pd.read_csv('/content/heart-3.csv')\n",
        "test.info()"
      ],
      "execution_count": null,
      "outputs": [
        {
          "output_type": "stream",
          "text": [
            "<class 'pandas.core.frame.DataFrame'>\n",
            "RangeIndex: 1 entries, 0 to 0\n",
            "Data columns (total 13 columns):\n",
            " #   Column    Non-Null Count  Dtype  \n",
            "---  ------    --------------  -----  \n",
            " 0   age       1 non-null      int64  \n",
            " 1   sex       1 non-null      int64  \n",
            " 2   cp        1 non-null      int64  \n",
            " 3   trtbps    1 non-null      int64  \n",
            " 4   chol      1 non-null      int64  \n",
            " 5   fbs       1 non-null      int64  \n",
            " 6   restecg   1 non-null      int64  \n",
            " 7   thalachh  1 non-null      int64  \n",
            " 8   exng      1 non-null      int64  \n",
            " 9   oldpeak   1 non-null      float64\n",
            " 10  slp       1 non-null      int64  \n",
            " 11  caa       1 non-null      int64  \n",
            " 12  thall     1 non-null      int64  \n",
            "dtypes: float64(1), int64(12)\n",
            "memory usage: 232.0 bytes\n"
          ],
          "name": "stdout"
        }
      ]
    },
    {
      "cell_type": "code",
      "metadata": {
        "colab": {
          "base_uri": "https://localhost:8080/"
        },
        "id": "Sy9q9v0D-kMJ",
        "outputId": "e7538082-f0b2-4fc6-87ce-937a23841296"
      },
      "source": [
        "y_pred = logic.predict(test)\n",
        "y_pred"
      ],
      "execution_count": null,
      "outputs": [
        {
          "output_type": "execute_result",
          "data": {
            "text/plain": [
              "array([1])"
            ]
          },
          "metadata": {
            "tags": []
          },
          "execution_count": 65
        }
      ]
    }
  ]
}